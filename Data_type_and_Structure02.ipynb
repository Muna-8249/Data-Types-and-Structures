{
  "nbformat": 4,
  "nbformat_minor": 0,
  "metadata": {
    "colab": {
      "provenance": []
    },
    "kernelspec": {
      "name": "python3",
      "display_name": "Python 3"
    },
    "language_info": {
      "name": "python"
    }
  },
  "cells": [
    {
      "cell_type": "markdown",
      "source": [
        "1. What are data structures, and why are they important?\n",
        "\n",
        "What are data structure:\n",
        "* Data structure is a specific format for organizing, storing, and processing data within a computer system.It defines the relationship between data elements and the operation that can be performed on them.\n",
        "- Lists, Tuples, Sets, Dictionaries are some built-in data structure in Python.\n",
        "\n",
        "Why are they important:\n",
        "\n",
        "* Organization: They provide a way to organize data in a logical and structured manner.\n",
        "* Efficiency: They allow for efficient storage and retrival of data.\n",
        "* Problem Solving: They are fundamental building blocks for solving various problems in computer science.\n",
        "* Code readability: Using appropriate data structures can make code easier to read and understand.\n",
        "* Flexibility: Python's built-in data structures are versatile and can be used to represent various types of data.\n",
        "\n",
        "\n",
        "\n",
        "2. Explain the difference between mutable and immutable data types with example.\n",
        "\n",
        "Mutable Data Types:\n",
        "* These data types can be modified after they are created. The modification in place without creating a new object.\n",
        "Example:List, Dictionary, Set\n"
      ],
      "metadata": {
        "id": "xEo3_OIAapmO"
      }
    },
    {
      "cell_type": "code",
      "source": [
        "# Example with List\n",
        "list = [1, 2, 3, 4]\n",
        "list[0] = 10\n",
        "print(list) # output: [10, 2, 3, 4]"
      ],
      "metadata": {
        "id": "3JeOf6HP8kIK",
        "colab": {
          "base_uri": "https://localhost:8080/"
        },
        "outputId": "377d9549-b2c2-4506-da5d-ebe0684cf0de"
      },
      "execution_count": null,
      "outputs": [
        {
          "output_type": "stream",
          "name": "stdout",
          "text": [
            "[10, 2, 3, 4]\n"
          ]
        }
      ]
    },
    {
      "cell_type": "markdown",
      "source": [
        "Immutable Data Type:\n",
        "* These data type can not be changed after they are created. Any operation that appears to modify an immutable object actually creates a new object with the modified value.\n",
        "Examples: Integers, float, Boolean, Strings, tuples"
      ],
      "metadata": {
        "id": "4PQWhzTe-e7H"
      }
    },
    {
      "cell_type": "code",
      "source": [
        "# Example with Strig\n",
        "Name = \"Padmalochan\"\n",
        "Name[0] = \"M\" # Error: 'str' object does not support item assignment"
      ],
      "metadata": {
        "colab": {
          "base_uri": "https://localhost:8080/",
          "height": 176
        },
        "id": "IfceNUKi_8OZ",
        "outputId": "2d7b031b-11de-4196-d9ea-3c525359d59f"
      },
      "execution_count": null,
      "outputs": [
        {
          "output_type": "error",
          "ename": "TypeError",
          "evalue": "'str' object does not support item assignment",
          "traceback": [
            "\u001b[0;31m---------------------------------------------------------------------------\u001b[0m",
            "\u001b[0;31mTypeError\u001b[0m                                 Traceback (most recent call last)",
            "\u001b[0;32m/tmp/ipython-input-884402795.py\u001b[0m in \u001b[0;36m<cell line: 0>\u001b[0;34m()\u001b[0m\n\u001b[1;32m      1\u001b[0m \u001b[0;31m# Example with Strig\u001b[0m\u001b[0;34m\u001b[0m\u001b[0;34m\u001b[0m\u001b[0m\n\u001b[1;32m      2\u001b[0m \u001b[0mName\u001b[0m \u001b[0;34m=\u001b[0m \u001b[0;34m\"Padmalochan\"\u001b[0m\u001b[0;34m\u001b[0m\u001b[0;34m\u001b[0m\u001b[0m\n\u001b[0;32m----> 3\u001b[0;31m \u001b[0mName\u001b[0m\u001b[0;34m[\u001b[0m\u001b[0;36m0\u001b[0m\u001b[0;34m]\u001b[0m \u001b[0;34m=\u001b[0m \u001b[0;34m\"M\"\u001b[0m \u001b[0;31m# Error: 'str' object does not support item assignment\u001b[0m\u001b[0;34m\u001b[0m\u001b[0;34m\u001b[0m\u001b[0m\n\u001b[0m",
            "\u001b[0;31mTypeError\u001b[0m: 'str' object does not support item assignment"
          ]
        }
      ]
    },
    {
      "cell_type": "markdown",
      "source": [
        "3. What are the main differences between list and tuple in python?\n",
        "\n",
        "    * List are mutable, we can modify, add, remove the element of a list after creation. On the other hand Tuple are immutable, we can not modify the element of a tuple after creation.  "
      ],
      "metadata": {
        "id": "5dhUt0uXQbba"
      }
    },
    {
      "cell_type": "markdown",
      "source": [
        "4. Describe how dictionaries store data\n",
        "\n",
        "    - Dictioneries store data as key-value pairs using a hash table, where each key is hashed  to quickly find its corresponding value."
      ],
      "metadata": {
        "id": "P9xAQhwdVYe1"
      }
    },
    {
      "cell_type": "markdown",
      "source": [
        "5. Why might you use a Set insted of a List in python?\n",
        "\n",
        "    * A set is used insted of a list when we need to store unique elements and perform fast membership checks. Sets are faster than lists for searching because it use hash tables, and set also support mathmatical operations like Union, Intersection, and Difference."
      ],
      "metadata": {
        "id": "eT77QnTSWsVa"
      }
    },
    {
      "cell_type": "markdown",
      "source": [
        "6.What is a String in python, and how is it different from a list?\n",
        "\n",
        "    * A String in python is a sequence of text characters enclosed in single or duble quotes, and it is immutable.\n",
        "    * List is a mutable, ordered collection of items, where each item can be of any data type.\n",
        "\n",
        "    How they differ:\n",
        "        1. Mutability - String are immutable & List are mutable\n",
        "        2. Content - String are sequence of characters & Lists are collections of items with various data types.\n",
        "        3. Representation - Strings are defined using quotes('' or \"\")where as Lists are defined as using square brackets[].\n",
        "        4. Operations - both are supports indexing & Slicing. String have methods for text manipulation while list have methods for managing elements.\n",
        "        5. Use Case - Strings are primarily used for text data and lists are used for storing collections of items."
      ],
      "metadata": {
        "id": "zT6MPRLNfOT-"
      }
    },
    {
      "cell_type": "markdown",
      "source": [
        "7. How do tuples ensure data integrity in python?\n",
        "\n",
        "    * Tuples ensure data integrity in python because they are immutable, it means their elements can not be changed after creation.This prevents accedental modification and keeps the stored data consistent and secure.\n",
        "    "
      ],
      "metadata": {
        "id": "H_6z4UA6lRUW"
      }
    },
    {
      "cell_type": "markdown",
      "source": [
        "8. What is a hash table, and how does it relates to dictionaries in python?\n",
        "\n",
        "    * Hash table is a data structure that stores data in key-value pairs using a hash function for quick access. In python, a dictionary is implemented as a hash table where key are hashed to quickly locate thier corresponding value.\n",
        "    * The hash function converts each key into a numeric hash value, which points to the memory location where the value is stored."
      ],
      "metadata": {
        "id": "MPJCZu5xm9Jd"
      }
    },
    {
      "cell_type": "markdown",
      "source": [
        "9. Can lists contain different data types in python?\n",
        "\n",
        "    * Yes, list can contain Heterogenious data such as integers, strings, folats, booleans and even other lists."
      ],
      "metadata": {
        "id": "EpTttbHBqpUw"
      }
    },
    {
      "cell_type": "markdown",
      "source": [
        "10. Explain why string are immutable in python.\n",
        "\n",
        "    * Strings are immutable because of thease reasons:\n",
        "        1. Efficiency - python can safely reuse strings in memory that is important for performance\n",
        "        2. Security - strings are often used in key and immutability ensures they don't change accidentally.\n",
        "        3. Consistency - Once created, the string remains the same everywhere its referenced."
      ],
      "metadata": {
        "id": "t2Xcl6FSrfzg"
      }
    },
    {
      "cell_type": "markdown",
      "source": [
        "11. What advantages do dictionaries after over list for creation tasks?\n",
        "\n",
        "    * Advantages of Dictionaries over list in pythone:\n",
        "        - Dictionaries in python offer fast data retrival\n",
        "        - Easy to understand key value pairs\n",
        "        - Dynamic data stucture\n",
        "        - Efficient for storing large amounts of data\n",
        "        - Built in methods for manipulation\n",
        "        - Support for different data types\n",
        "        - Facilitate efficient data processing"
      ],
      "metadata": {
        "id": "7WCNLxxkrghe"
      }
    },
    {
      "cell_type": "markdown",
      "source": [
        "12. Describe a scenario where using a tuple would be preferable over a list.\n",
        "\n",
        "    * The scenarios where tulpe would be preferable over a list:\n",
        "        - Data integrity - if you have data that should never change, a tuple is safer.\n",
        "        - Dictionery key - Since tuple are immutable, they can be used as key in dictionaries, while list can not.\n",
        "        - Performance - Tuple are faster than list for iteration and memory usege because they do not change.\n",
        "        - Function arguments - Tuple are often used to group fixedvalues together."
      ],
      "metadata": {
        "id": "AW8n8ExkrhDX"
      }
    },
    {
      "cell_type": "markdown",
      "source": [
        "13. How do sets handle duplicate valus in python?\n",
        "\n",
        "    * A set in python is a collection of unique, unordered elements. If we try to add duplicate values, the sets automatically removes them and only keeps one copy.\n",
        "    * Sets use hashing internally, when we insert a value python checks if that value already exists, if yes, its ignored."
      ],
      "metadata": {
        "id": "0SwyEIg3rhyf"
      }
    },
    {
      "cell_type": "code",
      "source": [
        "# For Example\n",
        "Set = {1, 2, 3, 4, 1, 2, 3, 4, 5, 6}\n",
        "print(Set) # duplicate values are ignored."
      ],
      "metadata": {
        "colab": {
          "base_uri": "https://localhost:8080/"
        },
        "id": "ZxHyJbmfY_O4",
        "outputId": "c00d4ff3-bbaf-4ca7-fa1f-1010e089461f"
      },
      "execution_count": null,
      "outputs": [
        {
          "output_type": "stream",
          "name": "stdout",
          "text": [
            "{1, 2, 3, 4, 5, 6}\n"
          ]
        }
      ]
    },
    {
      "cell_type": "markdown",
      "source": [
        "14. How does the \"in\" keyword work differently for lists and dictionaries?\n",
        "\n",
        "    * The \"in\" keyword in python functions differently when used with lists compared to dictionaries due to their underlying data structure and how membership is determined\n",
        "        * for lists:\n",
        "            * The \"in\" keyword checks whether a value exists in the list, it goes element by element untill it finds a match."
      ],
      "metadata": {
        "id": "1ATSByY8riuf"
      }
    },
    {
      "cell_type": "code",
      "source": [
        "list = [1, 2, 3, 4, 5]\n",
        "print(3 in list)"
      ],
      "metadata": {
        "colab": {
          "base_uri": "https://localhost:8080/"
        },
        "id": "EIr1uOYBdlnc",
        "outputId": "a9634116-3b7c-426e-bacc-4877250855bd"
      },
      "execution_count": null,
      "outputs": [
        {
          "output_type": "stream",
          "name": "stdout",
          "text": [
            "True\n"
          ]
        }
      ]
    },
    {
      "cell_type": "markdown",
      "source": [
        "            * for dictionaries:\n",
        "                - The \"in\" keyword checks only for the key, not the values\n",
        "                "
      ],
      "metadata": {
        "id": "CsU5DqpEd4Zi"
      }
    },
    {
      "cell_type": "code",
      "source": [
        "Marks= {\"Padmalochan\": 89, \"Ram\":90, \"Shayam\":95}\n",
        "print(\"Padmalochan\" in Marks)"
      ],
      "metadata": {
        "colab": {
          "base_uri": "https://localhost:8080/"
        },
        "id": "p2OIlLnQdxdF",
        "outputId": "ccb66f4c-a2e1-4024-d065-f9011ee06c3f"
      },
      "execution_count": null,
      "outputs": [
        {
          "output_type": "stream",
          "name": "stdout",
          "text": [
            "True\n"
          ]
        }
      ]
    },
    {
      "cell_type": "markdown",
      "source": [
        "15. Can you modify the elements of a tuple? Explain why or why not.\n",
        "\n",
        "    * No we can not, tuple are immutable which means once created , their elements can not be changed, add or remove.\n",
        "        - Why Not?\n",
        "            1. Immutability - designed to be fixed collections of items.\n",
        "            2. Memory & Performance - since tuple are never change, python can optimize them better."
      ],
      "metadata": {
        "id": "D_yjhl2pw7Vw"
      }
    },
    {
      "cell_type": "code",
      "source": [
        "# For Example\n",
        "tuple = (50, 60, 70)\n",
        "tuple[0] = 100 # Error: it can not be modify"
      ],
      "metadata": {
        "colab": {
          "base_uri": "https://localhost:8080/",
          "height": 182
        },
        "id": "Yxemxj9CnhSD",
        "outputId": "289d30c1-23c8-4055-8e30-52731aa409e1"
      },
      "execution_count": null,
      "outputs": [
        {
          "output_type": "error",
          "ename": "TypeError",
          "evalue": "'tuple' object does not support item assignment",
          "traceback": [
            "\u001b[0;31m---------------------------------------------------------------------------\u001b[0m",
            "\u001b[0;31mTypeError\u001b[0m                                 Traceback (most recent call last)",
            "\u001b[0;32m/tmp/ipython-input-1685478437.py\u001b[0m in \u001b[0;36m<cell line: 0>\u001b[0;34m()\u001b[0m\n\u001b[1;32m      1\u001b[0m \u001b[0;31m# For Example\u001b[0m\u001b[0;34m\u001b[0m\u001b[0;34m\u001b[0m\u001b[0m\n\u001b[1;32m      2\u001b[0m \u001b[0mtuple\u001b[0m \u001b[0;34m=\u001b[0m \u001b[0;34m(\u001b[0m\u001b[0;36m50\u001b[0m\u001b[0;34m,\u001b[0m \u001b[0;36m60\u001b[0m\u001b[0;34m,\u001b[0m \u001b[0;36m70\u001b[0m\u001b[0;34m)\u001b[0m\u001b[0;34m\u001b[0m\u001b[0;34m\u001b[0m\u001b[0m\n\u001b[0;32m----> 3\u001b[0;31m \u001b[0mtuple\u001b[0m\u001b[0;34m[\u001b[0m\u001b[0;36m0\u001b[0m\u001b[0;34m]\u001b[0m \u001b[0;34m=\u001b[0m \u001b[0;36m100\u001b[0m \u001b[0;31m# Error: 'tuple' object does not support item assignment\u001b[0m\u001b[0;34m\u001b[0m\u001b[0;34m\u001b[0m\u001b[0m\n\u001b[0m",
            "\u001b[0;31mTypeError\u001b[0m: 'tuple' object does not support item assignment"
          ]
        }
      ]
    },
    {
      "cell_type": "markdown",
      "source": [
        "16. What is a nested dictionary, and give an example of  its use case?\n",
        "\n",
        "    * Nested dictionary means a dictionary inside another dictionary, it allows to store structured data.\n",
        "    * It usefull when we want to represent complex relationship."
      ],
      "metadata": {
        "id": "shPZx17sw8BY"
      }
    },
    {
      "cell_type": "code",
      "source": [
        "# For Example\n",
        "\n",
        "Students = {\"Ram\":{\"Age\":28, \"Marks\":{\"math\":86, \"science\":89}}, \"Shyam\":{\"Age\":25, \"marks\":{\"math\":90, \"science\":95}}}\n",
        "print(Students[\"Ram\"][\"Marks\"][\"science\"])"
      ],
      "metadata": {
        "colab": {
          "base_uri": "https://localhost:8080/"
        },
        "id": "6buG28hzpd75",
        "outputId": "e478a96e-3099-4872-a39e-51cee97b2fa0"
      },
      "execution_count": null,
      "outputs": [
        {
          "output_type": "stream",
          "name": "stdout",
          "text": [
            "89\n"
          ]
        }
      ]
    },
    {
      "cell_type": "markdown",
      "source": [
        "17. Describe the time complexity of accessing elenemts in a dictionary.\n",
        "\n",
        "    * In Python, dictionary is implemented using a hash table. Thats why accessing an element is usually very fast.\n",
        "\n",
        "Time complexity od accessing element in a dictionary\n",
        "        \n",
        "    * Average case O(1) (constant time) - Beacause python using hashing to map key directly to memory location.\n",
        "    \n",
        "    * Worst case O(n) (linear time) - This happens only if many keys end up with the same hash and python has to check multiple entries."
      ],
      "metadata": {
        "id": "HqubdnLOw8ZY"
      }
    },
    {
      "cell_type": "markdown",
      "source": [
        "18. In what situations are lists preferred over dictionaries?\n",
        "\n",
        "    * Lists are preferred over dictionaries in situation where:\n",
        "        - Ordered of elements is important\n",
        "        - Elements are accessed by numerical index\n",
        "        - Sequential processing is common\n",
        "        - Duplicates are allowed\n",
        "        - Simple, modification of sequences are required\n",
        "        - When we donot need key-value pairs etc"
      ],
      "metadata": {
        "id": "OEaiXKlAw9AX"
      }
    },
    {
      "cell_type": "markdown",
      "source": [
        "19. Why are dictionaries considered unordered, and how does that affect data retrival?\n",
        "\n",
        "    * Before python 3.7 version, dictionaries did not maintain insertion order. Item were stored in a hash table, and their positions dependended on the hash values of the key, not the ordered in which we inserted them. Thats why they were considered unordered collections.\n",
        "    * from python 3.7 onwards dictionaries do preserve insertionordered as an implementation details, but still their not ordered in a storing sence.\n",
        "\n",
        "How does that affectdata retrival\n",
        "    \n",
        "    * Retrival uis not affected by order at all - Dictionary lookups work using hashing, so wether you inserted the item first, last or in the middle , retrival time is stillO(1)."
      ],
      "metadata": {
        "id": "1AlLJFWkxuRf"
      }
    },
    {
      "cell_type": "markdown",
      "source": [
        "20. Expalin the difference between a list and a dictionary in terms of data retrival.\n",
        "\n",
        "List:\n",
        "\n",
        "    * Retrieval Method - By indexing\n",
        "    * Time complexity - Direct index access\n",
        "    * Limitation -  To find an element by its value, python has to search through the list with the n numbers of elements."
      ],
      "metadata": {
        "id": "kbG9i9auxwWH"
      }
    },
    {
      "cell_type": "code",
      "source": [
        "# For Example:\n",
        "\n",
        "list = [\"Patato\", \"Tomato\", \"Orange\", \"apple\", \"Banana\"]\n",
        "print(list[2]) # By idexing"
      ],
      "metadata": {
        "colab": {
          "base_uri": "https://localhost:8080/"
        },
        "id": "5KE2mB97jHel",
        "outputId": "5b19d49a-7436-4c43-8acb-d72b02909045"
      },
      "execution_count": null,
      "outputs": [
        {
          "output_type": "stream",
          "name": "stdout",
          "text": [
            "Orange\n"
          ]
        }
      ]
    },
    {
      "cell_type": "markdown",
      "source": [
        "Dictionary\n",
        "    * Retrival Method - By key\n",
        "    * Time complexity- On avarage (Hash table lookup)\n",
        "    * Limitation - No retrival by numeric position (unless you convert key/values to a list)"
      ],
      "metadata": {
        "id": "baQKVC_YkFQe"
      }
    },
    {
      "cell_type": "code",
      "source": [
        "Dict = {\"Patato\":\"1kg\", \"Tomato\":\"2kg\", \"Orange\":\"3kg\", \"apple\":\"4kg\", \"Banana\":\"1dzn\"}\n",
        "print(Dict[\"Tomato\"]) # By idexing"
      ],
      "metadata": {
        "colab": {
          "base_uri": "https://localhost:8080/"
        },
        "id": "hsf9lRNBj1ct",
        "outputId": "542b6236-bca3-4bff-f223-0e9060d991e7"
      },
      "execution_count": null,
      "outputs": [
        {
          "output_type": "stream",
          "name": "stdout",
          "text": [
            "2kg\n"
          ]
        }
      ]
    },
    {
      "cell_type": "code",
      "source": [],
      "metadata": {
        "id": "WZ5Zk3AjmUQL"
      },
      "execution_count": null,
      "outputs": []
    },
    {
      "cell_type": "code",
      "source": [],
      "metadata": {
        "id": "GZpHu8akm7gU"
      },
      "execution_count": null,
      "outputs": []
    },
    {
      "cell_type": "markdown",
      "source": [
        "# Practical Questions"
      ],
      "metadata": {
        "id": "gEAuwf7BmZfB"
      }
    },
    {
      "cell_type": "markdown",
      "source": [
        "1. Write a code to create a string with your name and print it."
      ],
      "metadata": {
        "id": "FOKbKT3gxfqn"
      }
    },
    {
      "cell_type": "code",
      "source": [
        "Name = \"Padmalochan\"\n",
        "print(Name)"
      ],
      "metadata": {
        "colab": {
          "base_uri": "https://localhost:8080/"
        },
        "id": "-9EOs2pdxzvu",
        "outputId": "ee7748eb-218b-4542-a5d4-e2f529437eca"
      },
      "execution_count": null,
      "outputs": [
        {
          "output_type": "stream",
          "name": "stdout",
          "text": [
            "Padmalochan\n"
          ]
        }
      ]
    },
    {
      "cell_type": "markdown",
      "source": [
        "2. Write a code to find the length of the string \"Hello World\"."
      ],
      "metadata": {
        "id": "lf78dgQ0x9E9"
      }
    },
    {
      "cell_type": "code",
      "source": [
        "Str = \"Hello World\"\n",
        "print(len(Str))"
      ],
      "metadata": {
        "colab": {
          "base_uri": "https://localhost:8080/"
        },
        "id": "iTqCPtBoyXIN",
        "outputId": "715577ae-38ce-46e9-db3f-c98d6b582ba9"
      },
      "execution_count": null,
      "outputs": [
        {
          "output_type": "stream",
          "name": "stdout",
          "text": [
            "11\n"
          ]
        }
      ]
    },
    {
      "cell_type": "markdown",
      "source": [
        "3. Write a code to slice the first 3 characters from the strint \"Python Programming\""
      ],
      "metadata": {
        "id": "Cxyox5bjy-vd"
      }
    },
    {
      "cell_type": "code",
      "source": [
        "PW = \"Python Programming\"\n",
        "print(PW[:3])"
      ],
      "metadata": {
        "colab": {
          "base_uri": "https://localhost:8080/"
        },
        "id": "V7hzRE_vzQdE",
        "outputId": "1e0d6724-a5f1-465f-d39f-ff86e946603c"
      },
      "execution_count": null,
      "outputs": [
        {
          "output_type": "stream",
          "name": "stdout",
          "text": [
            "Pyt\n"
          ]
        }
      ]
    },
    {
      "cell_type": "markdown",
      "source": [
        "4. Write a code to convert the string \"hello\" to uppercase."
      ],
      "metadata": {
        "id": "B1dAC1-rz1Yt"
      }
    },
    {
      "cell_type": "code",
      "source": [
        "Text = \"hello\"\n",
        "print(Text.upper())"
      ],
      "metadata": {
        "colab": {
          "base_uri": "https://localhost:8080/"
        },
        "id": "SBYhEoz40TEa",
        "outputId": "068f82c6-5b83-470f-f42a-d40516e88717"
      },
      "execution_count": null,
      "outputs": [
        {
          "output_type": "stream",
          "name": "stdout",
          "text": [
            "HELLO\n"
          ]
        }
      ]
    },
    {
      "cell_type": "markdown",
      "source": [
        "5. Write a code to replace the word \"apple\" with \"orange\" in the string \"I like apple\"."
      ],
      "metadata": {
        "id": "mMTQ8LUT0cxs"
      }
    },
    {
      "cell_type": "code",
      "source": [
        "T = \"I like apple\"\n",
        "print(T.replace(\"apple\", \"orange\"))"
      ],
      "metadata": {
        "colab": {
          "base_uri": "https://localhost:8080/"
        },
        "id": "EB_WPSww1GjJ",
        "outputId": "6ef352c9-7aed-4ed8-e57a-395cc923e55f"
      },
      "execution_count": null,
      "outputs": [
        {
          "output_type": "stream",
          "name": "stdout",
          "text": [
            "I like orange\n"
          ]
        }
      ]
    },
    {
      "cell_type": "markdown",
      "source": [
        "6. Write a code to create a list with numbers 1 to 5 and print it."
      ],
      "metadata": {
        "id": "Gub4EuYC1htB"
      }
    },
    {
      "cell_type": "code",
      "source": [
        "list = [1, 2, 3, 4, 5]\n",
        "print(list)"
      ],
      "metadata": {
        "colab": {
          "base_uri": "https://localhost:8080/"
        },
        "id": "hyxma6-A1zR_",
        "outputId": "d0784840-577c-49d5-c67c-5ed40d03df64"
      },
      "execution_count": null,
      "outputs": [
        {
          "output_type": "stream",
          "name": "stdout",
          "text": [
            "[1, 2, 3, 4, 5]\n"
          ]
        }
      ]
    },
    {
      "cell_type": "markdown",
      "source": [
        "7. Write a code to append the number 10 to the list [1, 2, 3, 4]."
      ],
      "metadata": {
        "id": "dQgeB5LE2BHx"
      }
    },
    {
      "cell_type": "code",
      "source": [
        "code = [1, 2, 3, 4]\n",
        "code.append(10)\n",
        "print(code)"
      ],
      "metadata": {
        "colab": {
          "base_uri": "https://localhost:8080/"
        },
        "id": "s4LFJppy2RZZ",
        "outputId": "130479b5-ff59-44e1-e9dc-7b480a7f3699"
      },
      "execution_count": null,
      "outputs": [
        {
          "output_type": "stream",
          "name": "stdout",
          "text": [
            "[1, 2, 3, 4, 10]\n"
          ]
        }
      ]
    },
    {
      "cell_type": "markdown",
      "source": [
        "8. Write a code to remove the number 3 from the list [1, 2, 3, 4, 5]."
      ],
      "metadata": {
        "id": "W8PJ5Lti2eTX"
      }
    },
    {
      "cell_type": "code",
      "source": [
        "code = [1, 2, 3, 4, 5]\n",
        "code.remove(3)\n",
        "print(code)"
      ],
      "metadata": {
        "colab": {
          "base_uri": "https://localhost:8080/"
        },
        "id": "qbdmYKI-26a-",
        "outputId": "65f03438-e747-42ea-d058-2f7923a68b81"
      },
      "execution_count": null,
      "outputs": [
        {
          "output_type": "stream",
          "name": "stdout",
          "text": [
            "[1, 2, 4, 5]\n"
          ]
        }
      ]
    },
    {
      "cell_type": "markdown",
      "source": [
        "9. Write a code to access the second element in the list ['a', 'b', 'c', 'd']."
      ],
      "metadata": {
        "id": "EoR4FKVF3oSe"
      }
    },
    {
      "cell_type": "code",
      "source": [
        "l = ['a', 'b', 'c', 'd']\n",
        "print(l[1])"
      ],
      "metadata": {
        "colab": {
          "base_uri": "https://localhost:8080/"
        },
        "id": "sTYZ-W-s37d9",
        "outputId": "f0664c7d-7168-4059-a592-5dbd789d8029"
      },
      "execution_count": null,
      "outputs": [
        {
          "output_type": "stream",
          "name": "stdout",
          "text": [
            "b\n"
          ]
        }
      ]
    },
    {
      "cell_type": "markdown",
      "source": [
        "10. Write a code to reverse the list [10, 20, 30, 40, 50]."
      ],
      "metadata": {
        "id": "MCPS2sbG4Ih2"
      }
    },
    {
      "cell_type": "code",
      "source": [
        "list = [10, 20, 30, 40, 50]\n",
        "print(list[::-1])"
      ],
      "metadata": {
        "colab": {
          "base_uri": "https://localhost:8080/"
        },
        "id": "mXXXW57z4ULF",
        "outputId": "ba84c766-6812-432f-bc1e-4c5dc7ccef44"
      },
      "execution_count": null,
      "outputs": [
        {
          "output_type": "stream",
          "name": "stdout",
          "text": [
            "[50, 40, 30, 20, 10]\n"
          ]
        }
      ]
    },
    {
      "cell_type": "markdown",
      "source": [
        "11. Write a code to create a tuple with the elements 100, 200, 300 and print it."
      ],
      "metadata": {
        "id": "6VOYVFYZdfi8"
      }
    },
    {
      "cell_type": "code",
      "source": [
        "tuple = (100, 200, 300)\n",
        "print(tuple)"
      ],
      "metadata": {
        "colab": {
          "base_uri": "https://localhost:8080/"
        },
        "id": "YMc3RZPtfvUi",
        "outputId": "3ef59148-8d9f-41a6-c868-e9def33f68d7"
      },
      "execution_count": null,
      "outputs": [
        {
          "output_type": "stream",
          "name": "stdout",
          "text": [
            "(100, 200, 300)\n"
          ]
        }
      ]
    },
    {
      "cell_type": "markdown",
      "source": [
        "12. Write code to access the second-to-last elementof the tuple('red', 'green', 'blue', 'yellow')."
      ],
      "metadata": {
        "id": "yLWtA8Z3gIm6"
      }
    },
    {
      "cell_type": "code",
      "source": [
        "colors = ('red', 'green', 'blue', 'yellow')\n",
        "print(colors[-2])"
      ],
      "metadata": {
        "colab": {
          "base_uri": "https://localhost:8080/"
        },
        "id": "WrJynCkKgir-",
        "outputId": "4e901b56-656a-4dba-e867-19feed0b9b77"
      },
      "execution_count": null,
      "outputs": [
        {
          "output_type": "stream",
          "name": "stdout",
          "text": [
            "blue\n"
          ]
        }
      ]
    },
    {
      "cell_type": "markdown",
      "source": [
        "\n",
        "13. Write a code to find the minimum number in the tuple (10, 20, 5, 15)."
      ],
      "metadata": {
        "id": "Sp4OT8-Yhait"
      }
    },
    {
      "cell_type": "code",
      "source": [
        "numbers = (10, 20, 5, 15)\n",
        "print(min(numbers))"
      ],
      "metadata": {
        "colab": {
          "base_uri": "https://localhost:8080/"
        },
        "id": "3TV8RC4tiPoi",
        "outputId": "8206c2e4-02cc-454e-963c-d89964cb182b"
      },
      "execution_count": null,
      "outputs": [
        {
          "output_type": "stream",
          "name": "stdout",
          "text": [
            "5\n"
          ]
        }
      ]
    },
    {
      "cell_type": "markdown",
      "source": [
        "14. Write a code to find the index of the element \"cat\" in the tuple ('dog', 'cat', 'rabbit')."
      ],
      "metadata": {
        "id": "AMzcSYiIiV01"
      }
    },
    {
      "cell_type": "code",
      "source": [
        "Animal = ('dog', 'cat', 'rabbit')\n",
        "print(Animal.index(\"cat\"))"
      ],
      "metadata": {
        "colab": {
          "base_uri": "https://localhost:8080/"
        },
        "id": "BpyX3AzXizHs",
        "outputId": "72380d3f-8608-4794-89da-9fabdd479ad3"
      },
      "execution_count": null,
      "outputs": [
        {
          "output_type": "stream",
          "name": "stdout",
          "text": [
            "1\n"
          ]
        }
      ]
    },
    {
      "cell_type": "markdown",
      "source": [
        "15. Write a code to create a tuple containing three different fruits and check if 'kiwi' is in it."
      ],
      "metadata": {
        "id": "p3uzLxkQkEmV"
      }
    },
    {
      "cell_type": "code",
      "source": [
        "fruit_basket = ('apple', 'banana', 'orange')\n",
        "print('kiwi' in fruit_basket)"
      ],
      "metadata": {
        "colab": {
          "base_uri": "https://localhost:8080/"
        },
        "id": "ly7ZGvaxku1F",
        "outputId": "16b2a2d5-0be0-462b-ec55-449585406f1a"
      },
      "execution_count": null,
      "outputs": [
        {
          "output_type": "stream",
          "name": "stdout",
          "text": [
            "False\n"
          ]
        }
      ]
    },
    {
      "cell_type": "markdown",
      "source": [
        "16. Write a code to create a set with the elements 'a', 'b', 'c' and print it."
      ],
      "metadata": {
        "id": "_AcjwgIDlrkJ"
      }
    },
    {
      "cell_type": "code",
      "source": [
        "Set = {\"a\", \"b\", \"c\"}\n",
        "print(Set)"
      ],
      "metadata": {
        "colab": {
          "base_uri": "https://localhost:8080/"
        },
        "id": "OKOPO4QGnANO",
        "outputId": "87e401f6-5822-4aab-b517-458c33cf19c4"
      },
      "execution_count": null,
      "outputs": [
        {
          "output_type": "stream",
          "name": "stdout",
          "text": [
            "{'c', 'b', 'a'}\n"
          ]
        }
      ]
    },
    {
      "cell_type": "markdown",
      "source": [
        "17. Write a code to clear all elements from the set {1, 2, 3, 4, 5}."
      ],
      "metadata": {
        "id": "lDJqU0TNnPNJ"
      }
    },
    {
      "cell_type": "code",
      "source": [
        "numbers = {1, 2, 3, 4, 5}\n",
        "numbers.clear()\n",
        "print(numbers)"
      ],
      "metadata": {
        "colab": {
          "base_uri": "https://localhost:8080/"
        },
        "id": "Sj1F5pZDnf-S",
        "outputId": "45e229f6-da13-4336-bf0b-e832b524b8ef"
      },
      "execution_count": null,
      "outputs": [
        {
          "output_type": "stream",
          "name": "stdout",
          "text": [
            "set()\n"
          ]
        }
      ]
    },
    {
      "cell_type": "markdown",
      "source": [
        "18. Write a code to remove the element 4 from the set {1, 2, 3, 4}."
      ],
      "metadata": {
        "id": "BnMslEGUnmHq"
      }
    },
    {
      "cell_type": "code",
      "source": [
        "Set1 = {1, 2, 3, 4}\n",
        "Set1.remove(4)\n",
        "print(Set1)"
      ],
      "metadata": {
        "colab": {
          "base_uri": "https://localhost:8080/"
        },
        "id": "MzjZBYDZoFM9",
        "outputId": "adb7fe4c-eda1-4aa2-d934-b486bbe68619"
      },
      "execution_count": null,
      "outputs": [
        {
          "output_type": "stream",
          "name": "stdout",
          "text": [
            "{1, 2, 3}\n"
          ]
        }
      ]
    },
    {
      "cell_type": "markdown",
      "source": [
        "19. Write a code to find the union of two sets  {1, 2, 3} and {3, 4, 5}."
      ],
      "metadata": {
        "id": "SE-ZIsoioY9m"
      }
    },
    {
      "cell_type": "code",
      "source": [
        "S1 = {1, 2, 3}\n",
        "S2 = {3, 4, 5}\n",
        "print(S1.union(S2))"
      ],
      "metadata": {
        "colab": {
          "base_uri": "https://localhost:8080/"
        },
        "id": "SEI30LpmoyB7",
        "outputId": "32b62e2f-c0c6-4866-d88a-71b7ed77c520"
      },
      "execution_count": null,
      "outputs": [
        {
          "output_type": "stream",
          "name": "stdout",
          "text": [
            "{1, 2, 3, 4, 5}\n"
          ]
        }
      ]
    },
    {
      "cell_type": "markdown",
      "source": [
        "20. Write a code to find the intersection of two sets {1,2,3} and {2,3,4}."
      ],
      "metadata": {
        "id": "acQe_Fp4o8Ue"
      }
    },
    {
      "cell_type": "code",
      "source": [
        "S1 = {1, 2, 3}\n",
        "S2 = {2, 3, 4}\n",
        "print(S1.intersection(S2))"
      ],
      "metadata": {
        "colab": {
          "base_uri": "https://localhost:8080/"
        },
        "id": "pRsCIdTUpdpp",
        "outputId": "f0b7f153-fd34-4220-a4ec-0b2587907040"
      },
      "execution_count": null,
      "outputs": [
        {
          "output_type": "stream",
          "name": "stdout",
          "text": [
            "{2, 3}\n"
          ]
        }
      ]
    },
    {
      "cell_type": "markdown",
      "source": [
        "21. Write a code to create a dictionary with the key \"name\", \"age\" and \"city\" and print it."
      ],
      "metadata": {
        "id": "EmCjUqIbpj6z"
      }
    },
    {
      "cell_type": "code",
      "source": [
        "My_dict = {\"name\": \"Padmalochan\", \"age\": 31, \"city\": \"Keonjhar\"}\n",
        "print(My_dict)"
      ],
      "metadata": {
        "colab": {
          "base_uri": "https://localhost:8080/"
        },
        "id": "qK5i4JazqNOo",
        "outputId": "90f43891-10ad-4268-b5dd-71636a1c5192"
      },
      "execution_count": null,
      "outputs": [
        {
          "output_type": "stream",
          "name": "stdout",
          "text": [
            "{'name': 'Padmalochan', 'age': 31, 'city': 'Keonjhar'}\n"
          ]
        }
      ]
    },
    {
      "cell_type": "markdown",
      "source": [
        "22. Write a code to add a new key-value pair \"country\": \"USA\" to the dictionary {\"name\":\"John\", \"age\":25}"
      ],
      "metadata": {
        "id": "IUV84b03q-f1"
      }
    },
    {
      "cell_type": "code",
      "source": [
        "dict1 = {\"name\":\"John\", \"age\":25}\n",
        "dict1[\"country\"] = \"USA\"\n",
        "print(dict1)"
      ],
      "metadata": {
        "colab": {
          "base_uri": "https://localhost:8080/"
        },
        "id": "LicM-g6BsAzZ",
        "outputId": "71cee1e4-dfa5-412a-a7eb-b930b6109bd8"
      },
      "execution_count": null,
      "outputs": [
        {
          "output_type": "stream",
          "name": "stdout",
          "text": [
            "{'name': 'John', 'age': 25, 'country': 'USA'}\n"
          ]
        }
      ]
    },
    {
      "cell_type": "markdown",
      "source": [
        "23. Write the code to access the value associated with the key \"name\" in the dictionary {\"name\":\"Alice\", \"Age\": 30}."
      ],
      "metadata": {
        "id": "mc-rUcassmYu"
      }
    },
    {
      "cell_type": "code",
      "source": [
        "P1 = {\"name\":\"Alice\", \"Age\": 30}\n",
        "print(P1[\"name\"])"
      ],
      "metadata": {
        "colab": {
          "base_uri": "https://localhost:8080/"
        },
        "id": "wz_qU-70tbxz",
        "outputId": "4cfd85b9-4aa3-4bfd-ec1e-72578c931292"
      },
      "execution_count": null,
      "outputs": [
        {
          "output_type": "stream",
          "name": "stdout",
          "text": [
            "Alice\n"
          ]
        }
      ]
    },
    {
      "cell_type": "markdown",
      "source": [
        "24. Write a code to remove the key \"age\" form the dictionary {\"name\":\"bob\", \"age\":22, \"city\":\"New York\"}."
      ],
      "metadata": {
        "id": "GfgxXO24tvBk"
      }
    },
    {
      "cell_type": "code",
      "source": [
        "P2 = {\"name\":\"bob\", \"age\":22, \"city\":\"New York\"}\n",
        "P2.pop(\"age\")\n",
        "print(P2)"
      ],
      "metadata": {
        "colab": {
          "base_uri": "https://localhost:8080/"
        },
        "id": "VDjpp9LkunGg",
        "outputId": "dc134cf8-bafd-4e8f-c83f-a4decfd1a4f5"
      },
      "execution_count": null,
      "outputs": [
        {
          "output_type": "stream",
          "name": "stdout",
          "text": [
            "{'name': 'bob', 'city': 'New York'}\n"
          ]
        }
      ]
    },
    {
      "cell_type": "markdown",
      "source": [
        "25. Write a code to check if the key \"city\" exists in the dictionary {\"name\":\"Alice\", \"city\":\"Paris\"}"
      ],
      "metadata": {
        "id": "FTbbl73mu4B6"
      }
    },
    {
      "cell_type": "code",
      "source": [
        "dict3 = {\"name\":\"Alice\", \"city\":\"Paris\"}\n",
        "print(\"city\" in dict3)"
      ],
      "metadata": {
        "colab": {
          "base_uri": "https://localhost:8080/"
        },
        "id": "O9MmU2wrviGE",
        "outputId": "4d75802d-158b-47fc-8e48-f98d2d89e532"
      },
      "execution_count": null,
      "outputs": [
        {
          "output_type": "stream",
          "name": "stdout",
          "text": [
            "True\n"
          ]
        }
      ]
    },
    {
      "cell_type": "markdown",
      "source": [
        "26. Write a code to create a list, a tuple and a dictionary and print them all."
      ],
      "metadata": {
        "id": "Xbtor9RKvvZd"
      }
    },
    {
      "cell_type": "code",
      "source": [
        "L = [1, 2, 3, 4, 5]\n",
        "T = (1, 2, 3, 4, 5)\n",
        "D = {\"name\": \"Padmalochan\", \"age\": 31, \"city\": \"Keonjhar\"}"
      ],
      "metadata": {
        "id": "6GYg9wR0wE71"
      },
      "execution_count": null,
      "outputs": []
    },
    {
      "cell_type": "code",
      "source": [
        "print(L, T, D)"
      ],
      "metadata": {
        "colab": {
          "base_uri": "https://localhost:8080/"
        },
        "id": "Bm1Gt3Aq5zMF",
        "outputId": "1ba44b4c-c2de-49f1-9d65-5d23388b6fd8"
      },
      "execution_count": null,
      "outputs": [
        {
          "output_type": "stream",
          "name": "stdout",
          "text": [
            "[1, 2, 3, 4, 5] (1, 2, 3, 4, 5) {'name': 'Padmalochan', 'age': 31, 'city': 'Keonjhar'}\n"
          ]
        }
      ]
    },
    {
      "cell_type": "markdown",
      "source": [
        "27. Write a code to create a list of 5 random numbers between 1 and 100, sort it in ascending order, and print the result.(replaced)."
      ],
      "metadata": {
        "id": "XSHFlyaj63Ok"
      }
    },
    {
      "cell_type": "code",
      "source": [
        "import random\n",
        "numbers = [random.randint(1, 100) for _ in range(5)]\n"
      ],
      "metadata": {
        "id": "txX9nP6t7YcS"
      },
      "execution_count": null,
      "outputs": []
    },
    {
      "cell_type": "code",
      "source": [
        "numbers.sort()\n",
        "print(numbers)"
      ],
      "metadata": {
        "colab": {
          "base_uri": "https://localhost:8080/"
        },
        "id": "GZQYgVJW8MxT",
        "outputId": "8030654f-6f63-4ab0-e444-f95f4f97e64e"
      },
      "execution_count": null,
      "outputs": [
        {
          "output_type": "stream",
          "name": "stdout",
          "text": [
            "[7, 56, 69, 74, 96]\n"
          ]
        }
      ]
    },
    {
      "cell_type": "markdown",
      "source": [
        "28. Write a code to create a list with strings and print the element at the third index."
      ],
      "metadata": {
        "id": "JKvrtM5G_XV-"
      }
    },
    {
      "cell_type": "code",
      "source": [
        "shopping_list = [\"apple\", \"banana\", \"orange\", \"mango\", \"grapes\"]\n",
        "print(shopping_list[2])"
      ],
      "metadata": {
        "colab": {
          "base_uri": "https://localhost:8080/"
        },
        "id": "0DOUh8-4AO2u",
        "outputId": "bca63368-fbe2-447f-f2d1-2f0c5b4fe581"
      },
      "execution_count": null,
      "outputs": [
        {
          "output_type": "stream",
          "name": "stdout",
          "text": [
            "orange\n"
          ]
        }
      ]
    },
    {
      "cell_type": "markdown",
      "source": [
        "29. Write a code to combine two dictionaries into one and print the result."
      ],
      "metadata": {
        "id": "rRL4eIYsA7Jl"
      }
    },
    {
      "cell_type": "code",
      "source": [
        "dict1 = {\"name\": \"Padmalochan\", \"age\": 31}\n",
        "dict2 = {\"city\": \"Keonjhar\", \"country\": \"India\"}\n",
        "dict1.update(dict2)\n",
        "print(dict1)"
      ],
      "metadata": {
        "colab": {
          "base_uri": "https://localhost:8080/"
        },
        "id": "PeLGl8GoCDmi",
        "outputId": "f7325eeb-b7ed-4aa3-9ac8-f0fda6674c23"
      },
      "execution_count": null,
      "outputs": [
        {
          "output_type": "stream",
          "name": "stdout",
          "text": [
            "{'name': 'Padmalochan', 'age': 31, 'city': 'Keonjhar', 'country': 'India'}\n"
          ]
        }
      ]
    },
    {
      "cell_type": "markdown",
      "source": [
        "30. Write a code to convert a list of strings into a set."
      ],
      "metadata": {
        "id": "EKSOBNDEDCzc"
      }
    },
    {
      "cell_type": "code",
      "source": [
        "Str = [\"apple\", \"banana\", \"orange\", \"mango\", \"grapes\"]\n",
        "print(set(Str))"
      ],
      "metadata": {
        "colab": {
          "base_uri": "https://localhost:8080/"
        },
        "id": "bExSqN0DDORo",
        "outputId": "1116eed7-0866-4fc3-db9c-9ce34a40af2b"
      },
      "execution_count": null,
      "outputs": [
        {
          "output_type": "stream",
          "name": "stdout",
          "text": [
            "{'apple', 'grapes', 'orange', 'banana', 'mango'}\n"
          ]
        }
      ]
    },
    {
      "cell_type": "code",
      "source": [],
      "metadata": {
        "id": "k51rDDEzDjso"
      },
      "execution_count": null,
      "outputs": []
    }
  ]
}